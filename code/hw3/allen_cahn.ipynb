{
 "cells": [
  {
   "cell_type": "markdown",
   "metadata": {},
   "source": [
    "# Phase separation, initial value problems, and the Method of Lines\n",
    "## The Allen-Cahn equation\n",
    "Author: Michelle Contreras Cossio"
   ]
  },
  {
   "cell_type": "code",
   "execution_count": 1,
   "metadata": {},
   "outputs": [],
   "source": [
    "import numpy as np\n",
    "import matplotlib.pyplot as plt\n",
    "%matplotlib inline"
   ]
  },
  {
   "cell_type": "markdown",
   "metadata": {},
   "source": [
    "1. Implement the Allen-Cahn equation using the method of lines. I recommend implementing just the diffusion portion first, and checking that it works, before adding on the reaction term. I've included an outline of my solution below. Once you've reduced the problem to a system of coupled ODEs, you will need to make generous use of `np.reshape`. For numerical integration, we will use the ODE solver `scipy.integrate.solve_ivp`. Review the API and docs for that function to make sure your diffential equation is set up properly. "
   ]
  },
  {
   "cell_type": "code",
   "execution_count": null,
   "metadata": {},
   "outputs": [],
   "source": [
    "from scipy.integrate import odeint, solve_ivp\n",
    "\n",
    "class AllenCahn:\n",
    "    \"\"\"\n",
    "    An implementation of the Allen-Cahn equation in two dimensions, using the method\n",
    "    of lines and explicit finite differences\n",
    "\n",
    "    Parameters\n",
    "        nx (int): number of grid points in the x direction\n",
    "        ny (int): number of grid points in the y direction\n",
    "        kappa (float): reaction rate\n",
    "        d (float): diffusion coefficient\n",
    "        Lx (float): length of the domain in the x direction\n",
    "        Ly (float): length of the domain in the y direction\n",
    "\n",
    "    \"\"\"\n",
    "\n",
    "    def __init__(self, nx, ny, kappa=1.0, d=1.0, Lx=1.0, Ly=1.0):\n",
    "        self.nx = nx\n",
    "        self.ny = ny\n",
    "        self.dx = Lx / nx\n",
    "        self.dy = Ly / ny\n",
    "        self.d = d\n",
    "        self.kappa = kappa\n",
    "       \n",
    "    def _laplace(self, grid):\n",
    "        \"\"\"\n",
    "        Apply the two-dimensional Laplace operator to a square array\n",
    "        \"\"\"\n",
    "        ################################################################################\n",
    "        #\n",
    "        #\n",
    "        #  YOUR CODE HERE\n",
    "        #  My 10 line solution is vectorized in numpy, and so it avoids using a for loop \n",
    "        #  There are several valid ways to implement the boundary conditions\n",
    "        #\n",
    "        ################################################################################\n",
    "        raise NotImplementedError(\"Implement this method\")\n",
    "\n",
    "    def _reaction(self, y):\n",
    "        \"\"\"\n",
    "        Bistable reaction term\n",
    "        \"\"\"\n",
    "        ################################################################################\n",
    "        #\n",
    "        #\n",
    "        #  YOUR CODE HERE.\n",
    "        #\n",
    "        #\n",
    "        ################################################################################\n",
    "        raise NotImplementedError(\"Implement this method\")\n",
    "\n",
    "    def rhs(self, t, y):\n",
    "        \"\"\"\n",
    "        For technical reasons, this function needs to take a one-dimensional vector, \n",
    "        and so we have to reshape the vector back into the mesh\n",
    "        \"\"\"\n",
    "        ################################################################################\n",
    "        #\n",
    "        #\n",
    "        #  YOUR CODE HERE\n",
    "        #  My solution primarily calls private methods\n",
    "        #\n",
    "        #\n",
    "        ################################################################################\n",
    "        raise NotImplementedError(\"Implement this method\")\n",
    "\n",
    "\n",
    "    def solve(self, y0, t_min, t_max, nt, **kwargs):\n",
    "        \"\"\"\n",
    "        Solve the heat equation using the odeint solver\n",
    "\n",
    "        **kwargs are passed to scipy.integrate.solve_ivp\n",
    "        \"\"\"\n",
    "        ################################################################################\n",
    "        #\n",
    "        #\n",
    "        #  YOUR CODE HERE\n",
    "        #  My solution is five lines, and it mainly involves setting things up to be\n",
    "        #  passed to scipy.integrate.solve_ivp, and then returning the results\n",
    "        #\n",
    "        #\n",
    "        ################################################################################\n",
    "        raise NotImplementedError(\"Implement this method\")\n",
    "\n",
    "\n"
   ]
  },
  {
   "cell_type": "markdown",
   "metadata": {},
   "source": [
    "Testing the code"
   ]
  },
  {
   "cell_type": "code",
   "execution_count": null,
   "metadata": {},
   "outputs": [],
   "source": [
    "# import one of William's solutions\n",
    "# from solutions.allencahn_spectral import AllenCahn\n",
    "# from solutions.allencahn import AllenCahn\n",
    "\n",
    "## Run an example simulation and plot the before and after\n",
    "np.random.seed(0)\n",
    "ic = np.random.random((160, 160)) - 0.5\n",
    "model = AllenCahn(*ic.shape, kappa=1e1, d=1e-3)\n",
    "tpts, sol = model.solve(ic, 0, 8, 400, method=\"DOP853\")\n",
    "\n",
    "\n",
    "plt.figure()\n",
    "plt.imshow(sol[0], vmin=-1, vmax=1)\n",
    "\n",
    "plt.figure()\n",
    "plt.imshow(sol[-1], vmin=-1, vmax=1)"
   ]
  },
  {
   "cell_type": "markdown",
   "metadata": {},
   "source": [
    "2. Describe how varying $D$ and $\\kappa$ change the properties of your solution. Is this consistent with your intuition for special cases in which this equation is solvable?\n",
    "3. Try changing the mesh size, integration timestep, or integration duration. Under what conditions does the solver fail? What do failures look like for this solution method?\n",
    "4.  If you are familiar with Photoshop, you have probably used a tool called a [\"Gaussian blur,\"](https://www.youtube.com/watch?v=ri8RVzhHYoA) which blurs image details in a manner reminiscent of camera blur. This method is occasionally used in the analysis of experimental microscopy images, or even one-dimensional time series, in order to remove high-frequency information. The results of a Gaussian blur of fixed radius look very reminiscent of applying the raw diffusion equation ($\\kappa=0$) to our initial conditions for a fixed duration. Based on what you know about analytical results for the heat equation, can you guess why this might be the case? What kind of photo-editing operation does the reaction term in our system mimic?"
   ]
  }
 ],
 "metadata": {
  "kernelspec": {
   "display_name": "Python 3.10.6 ('cphy')",
   "language": "python",
   "name": "python3"
  },
  "language_info": {
   "codemirror_mode": {
    "name": "ipython",
    "version": 3
   },
   "file_extension": ".py",
   "mimetype": "text/x-python",
   "name": "python",
   "nbconvert_exporter": "python",
   "pygments_lexer": "ipython3",
   "version": "3.10.6"
  },
  "orig_nbformat": 4,
  "vscode": {
   "interpreter": {
    "hash": "c45739d9e61bba4427863bae7f40d633af9cbf4f1117d0b8783e5f63ad3c9b9c"
   }
  }
 },
 "nbformat": 4,
 "nbformat_minor": 2
}
