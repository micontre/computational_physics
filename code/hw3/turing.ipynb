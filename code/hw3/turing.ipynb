{
 "cells": [
  {
   "cell_type": "markdown",
   "metadata": {},
   "source": [
    "# Turing's model of morphogenesis and spectral methods\n",
    "## The Gray-Scott model\n",
    "Author: Michelle Contreras Cossio"
   ]
  },
  {
   "cell_type": "code",
   "execution_count": 1,
   "metadata": {},
   "outputs": [],
   "source": [
    "import numpy as np\n",
    "import matplotlib.pyplot as plt\n",
    "%matplotlib inline"
   ]
  },
  {
   "cell_type": "markdown",
   "metadata": {},
   "source": [
    " 1. Implement the Gray-Scott equations in Python, using the spectral method and the method of lines. I've included the outline of my solution below, but feel free to structure your code differently. Use periodic boundary conditions here, because the Fourier transform requires them.\n",
    "- Note that there are several possible ways to solve this problem: (1) exclusively in real-space (it's good practice not to use this approach here, since we already did it above for the Allen-Cahn model), (2) primarily in real-space, but switching to the Fourier domain and back within every call to the diffusion term, or (3) primarily working in the Fourier domain but switching back-and-forth to real space every time within the reaction term. If you opt for the last option, remember to convert your final solution back to real space.\n",
    "- You will likely find the functions `np.fft.fft2()` and `np.fft.ifft2()` very useful here"
   ]
  },
  {
   "cell_type": "code",
   "execution_count": null,
   "metadata": {},
   "outputs": [],
   "source": [
    "from scipy.integrate import solve_ivp\n",
    "\n",
    "class GrayScott:\n",
    "    \"\"\"\n",
    "    Simulate the two-dimensional Gray-Scott model\n",
    "\n",
    "    Parameters\n",
    "        nx (int): number of grid points in the x direction\n",
    "        ny (int): number of grid points in the y direction\n",
    "        Lx (float): length of the domain in the x direction\n",
    "        Ly (float): length of the domain in the y direction\n",
    "        du (float): diffusion coefficient for u\n",
    "        dv (float): diffusion coefficient for v\n",
    "        kappa (float): degradation rate of v\n",
    "        b (float): growth rate of u\n",
    "\n",
    "    \"\"\"\n",
    "\n",
    "    def __init__(self, nx, ny, du=0.1, dv=0.05, b=0.0545, kappa=0.1165, Lx=1.0, Ly=1.0):\n",
    "        self.nx, self.ny = nx, ny\n",
    "        self.dx = Lx / nx\n",
    "        self.dy = Ly / ny\n",
    "        self.du, self.dv = du, dv\n",
    "        self.kappa = kappa\n",
    "        self.b = b\n",
    "        \n",
    "        ## We need to define a mesh for the frequency domain\n",
    "        kx = (2 * np.pi / Lx) * np.hstack([np.arange(nx / 2 + 1), np.arange(1 - nx / 2, 0)]) / nx\n",
    "        ky = (2 * np.pi / Ly) * np.hstack([np.arange(ny / 2 + 1), np.arange(1 - ny / 2, 0)]) / ny\n",
    "        self.kx, self.ky = kx, ky\n",
    "        kxx, kyy = np.meshgrid(kx, ky)\n",
    "\n",
    "        ksq = kxx**2 + kyy**2\n",
    "        self.ksq = ksq\n",
    "\n",
    "        \n",
    "    def _reaction(self, y):\n",
    "        \"\"\"\n",
    "        Compute the reaction term in real space\n",
    "\n",
    "        Args:\n",
    "            y (np.ndarray): array of shape (2 * nx * ny, ) containing the two fields\n",
    "                u and v, stacked together\n",
    "        \"\"\"\n",
    "        ########################################################################\n",
    "        #\n",
    "        # Your code here. If you are performing the reaction in real space, this is\n",
    "        # relatively straightforward. If you are performing the reaction in Fourier\n",
    "        # space, you will need to perform an inverse Fourier transform\n",
    "        #\n",
    "        ########################################################################\n",
    "        raise NotImplementedError\n",
    "\n",
    "\n",
    "\n",
    "    def _laplace(self, y):\n",
    "        \"\"\"\n",
    "        Calculate the Laplacian in Fourier space\n",
    "        \"\"\"\n",
    "         ########################################################################\n",
    "        #\n",
    "        # Your code here.\n",
    "        #\n",
    "        ########################################################################\n",
    "        raise NotImplementedError\n",
    "\n",
    "\n",
    "    def _diffusion(self, y):\n",
    "        \"\"\"\n",
    "        Calculate the diffusion term in Fourier space\n",
    "\n",
    "        Args:\n",
    "            y (np.ndarray): array of shape (2 * nx * ny, ) containing the two fields\n",
    "                u and v, stacked together\n",
    "        \"\"\"\n",
    "        ########################################################################\n",
    "        #\n",
    "        # Your code here. I split the Laplace operator into its own function\n",
    "        #\n",
    "        ########################################################################\n",
    "        raise NotImplementedError\n",
    "\n",
    "\n",
    "\n",
    "    def rhs(self, t, y):\n",
    "        \"\"\"\n",
    "        For technical reasons, this function needs to take a one-dimensional vector, \n",
    "        and so we have to reshape the vector back into the mesh\n",
    "        \"\"\"\n",
    "        ########################################################################\n",
    "        #\n",
    "        # Your code here. This mainly calls other functions, in my implementation\n",
    "        #\n",
    "        ########################################################################\n",
    "        raise NotImplementedError\n",
    "\n",
    "\n",
    "    def solve(self, y0, t_min, t_max, nt, **kwargs):\n",
    "        \"\"\"\n",
    "        Solve the heat equation using the solve_ivp solver\n",
    "\n",
    "        Args:\n",
    "            y0 (np.ndarray): initial condition\n",
    "            t_min (float): minimum time\n",
    "            t_max (float): maximum time\n",
    "            nt (int): number of time steps\n",
    "            **kwargs: keyword arguments to pass to solve_ivp\n",
    "\n",
    "        \"\"\"\n",
    "        ########################################################################\n",
    "        #\n",
    "        # Your code here. I recommend using the solve_ivp solver, along with judicious\n",
    "        # use of np.reshape operation and np.hstack, because solve_ivp expects a\n",
    "        # one-dimensional vector as input\n",
    "        #\n",
    "        ########################################################################\n",
    "        raise NotImplementedError"
   ]
  },
  {
   "cell_type": "markdown",
   "metadata": {},
   "source": [
    "Testing the code"
   ]
  },
  {
   "cell_type": "code",
   "execution_count": null,
   "metadata": {},
   "outputs": [],
   "source": [
    "# Import William's solution\n",
    "#from solutions.grayscott import GrayScott\n",
    "\n",
    "## Create initial conditions\n",
    "np.random.seed(0)\n",
    "u_ic = 0.5 +  1.5 * np.random.random((100, 100))\n",
    "v_ic = 1 - np.copy(u_ic)\n",
    "\n",
    "## Run simulation\n",
    "model = GrayScott(*u_ic.shape)\n",
    "tpts, sol = model.solve([u_ic, v_ic], 0, 5000, 500)\n",
    "\n",
    "## Check that our spectral code is working: the imaginary residual should be small\n",
    "print(f\"Imaginary residual is: {np.mean(np.abs(np.imag(np.array(sol))))}\")\n",
    "sol = np.real(sol)\n",
    "\n",
    "plt.figure(figsize=(6, 6))\n",
    "plt.imshow(sol[-1, ..., 1])"
   ]
  },
  {
   "cell_type": "markdown",
   "metadata": {},
   "source": [
    "2. Try varying the parameters $D_u$, $D_v$ and $\\beta$ in your equations. How do the solutions change? Do you have any intuition for why these changes might occur?\n",
    "3. We mentioned that performing Fourier transforms at each timestep is more expensive per mesh point than computing the discrete Laplacian at each timestep. Can you give a more mathematical reason for this advantage, based on runtime scaling of Fourier transforms? How many fewer mesh points would we need to compensate?\n",
    "4. Try playing around with the number of timepoints and the number of space points. When does the spectral method fail? How do these failures differ from the ones we saw with the real-space finite difference scheme we used for the Allen-Cahn equations?\n",
    "5. Evolutionary biologists recently showed strong evidence that [the spacing of teeth-like denticles on sharks' skin](https://www.science.org/doi/10.1126/sciadv.aau5484?cookieSet=1) arises from a Turing mechanism. If we suppose that the denticles form via a Turing instability in Gray-Scott equations in early development, which parameter of the Gray-Scott equations would evolutionary forces most strongly act upon?\n",
    "6. We assumed periodic boundary conditions, which makes this problem easier to implement. How do you expect our results would change, if we had Dirichlet boundary conditions?"
   ]
  },
  {
   "cell_type": "markdown",
   "metadata": {},
   "source": []
  }
 ],
 "metadata": {
  "kernelspec": {
   "display_name": "Python 3.10.6 ('cphy')",
   "language": "python",
   "name": "python3"
  },
  "language_info": {
   "codemirror_mode": {
    "name": "ipython",
    "version": 3
   },
   "file_extension": ".py",
   "mimetype": "text/x-python",
   "name": "python",
   "nbconvert_exporter": "python",
   "pygments_lexer": "ipython3",
   "version": "3.10.6"
  },
  "orig_nbformat": 4,
  "vscode": {
   "interpreter": {
    "hash": "c45739d9e61bba4427863bae7f40d633af9cbf4f1117d0b8783e5f63ad3c9b9c"
   }
  }
 },
 "nbformat": 4,
 "nbformat_minor": 2
}
